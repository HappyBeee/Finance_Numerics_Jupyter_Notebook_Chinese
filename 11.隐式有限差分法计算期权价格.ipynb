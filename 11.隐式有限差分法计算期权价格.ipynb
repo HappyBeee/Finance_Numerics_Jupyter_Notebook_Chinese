{
 "cells": [
  {
   "cell_type": "markdown",
   "metadata": {},
   "source": [
    "# 第11节 隐式有限差分法计算期权价格\n",
    "* [11.1 简介](#10_1)\n",
    "* [11.2 计算美式看跌期权价格算法](#10_2)\n",
    "* [11.3 算法Python代码实现](#10_3)\n",
    "* [11.4 参考资料](#10_4)\n",
    "\n",
    "## <a name=\"11_1\"><a/> 11.1 简介\n",
    "&nbsp; &nbsp; &nbsp; &nbsp; \n",
    "我们这里也以美式看跌期权为例。类似显示有限差分法，我们也先将微分方程表示为差分形式。只是这时$\\frac{\\partial f}{\\partial t}(i,j)$的表示是向前近似。首先同样的，我们让\n",
    "$$ \\Delta S = \\frac{S_{max}}{M}, \\; \\Delta t = \\frac{T}{N},\\; S_{max} = 3S_0,\\; f(i,j) = f(i\\Delta t, j\\Delta S),\\;S(i,j)= j\\Delta S\\;.$$\n",
    "然后由\n",
    "    $$\\frac{\\partial f}{\\partial t}(i, j) +rS(i,j)\\frac{\\partial f}{\\partial S}(i,j)+\\frac{1}{2}\\sigma^2S^2(i,j)\\frac{\\partial^2f}{\\partial S^2}(i,j)=rf(i,j)\\;,$$\n",
    "$$\\frac{\\partial f}{\\partial t}(i,j) = \\frac{f(i+1,j)-f(i,j)}{\\Delta t}\\;,$$\n",
    "$$\\frac{\\partial f}{\\partial S}(i,j) = \\frac{f(i,j+1)-f(i,j-1)}{2\\Delta S}\\;,$$\n",
    "$$\\frac{\\partial^2 f}{\\partial S^2}(i,j) = \\frac{f(i,j+1)+f(i,j-1)-2f(i,j)}{\\Delta S^2}\\;.$$\n",
    "得到\n",
    "$$f(i+1,j)=a_jf(i,j-1)+b_jf(i,j)+c_jf(i,j+1)\\;,$$\n",
    "$$a_j = \\frac{1}{2}rj\\Delta t-\\frac{1}{2}\\sigma^2j^2\\Delta t\\;,$$\n",
    "$$b_j = 1+r\\Delta t+\\sigma^2j^2\\Delta t\\;,$$\n",
    "$$c_j = -\\frac{1}{2}rj\\Delta t-\\frac{1}{2}\\sigma^2j^2\\Delta t\\;.$$\n",
    "然后对于所有$i$时刻的$f(i,j)$和所有$i+1$时刻的$f(i+1,j)$就会有关系：\n",
    "\\begin{align}\n",
    "\\left(\\begin{array}{cccccc} b_1 & c_1 & \\quad &\\quad &\\quad &\\quad \\\\ a_2 & b_2 & c_2 & \\quad & \\quad & \\quad \\\\ \\quad & a_3 & b_3 & c_3 & \\quad & \\quad\\\\\\quad&\\quad&\\ddots&\\ddots&\\ddots&\\quad\\\\ \\quad & \\quad & \\quad & a_{M-2} & b_{M-2} & c_{M-2}\\\\\\quad & \\quad &\\quad &\\quad & a_{M_1} & b_{M-1}\\end{array}\\right)\\cdot\\left(\\begin{array}{c}f(i,1)\\\\f(i,2)\\\\ f(i,3) \\\\ \\vdots \\\\ f(i,M-2)\\\\ f(i,M-1)\\end{array}\\right) = \\left(\\begin{array}{c}f(i+1,1)-a_1f(i,0)\\\\f(i+1,2)\\\\f(i+1,3)\\\\ \\vdots \\\\ f(i+1,M-2)\\\\ f(i+1,M-1)-c_{M-1}f(i,M)\\end{array}\\right)\\;.\\\\\n",
    "\\end{align}\n",
    "我们可以将其记为\n",
    "    $$M\\cdot F_i = F_{i+1} \\; .$$\n",
    "其中$M,\\,F_{i+1}$都是已知的，$F_i$为上一时刻除边界外的未知价格。对$M$求逆后，我们有\n",
    "    $$F_i = M^{-1}F_{i+1} \\; .$$\n",
    "&nbsp; &nbsp; &nbsp; &nbsp; \n",
    "然后加上上下边界$f(i,M)=0,\\; f(i,0)=K$，即得到由差分关系递推出的$i$时刻期权价格。然后考虑在每个格点处是否应该执行美式看跌期权，就完成了一次美式看跌期权价格的递推。这样重复进行到初始时刻，即可得到隐式差分法计算的美式看跌期权价格。\n",
    "## <a name=\"11_2\"><a/> 11.2 计算美式看跌期权价格算法  \n",
    "1. 确定时间和股价变化范围，$0\\leq t\\leq T,\\; 0\\leq S\\leq S_{max},\\;S_{max}=3S_0$，并将区间离散化为二维等间距网格点，$\\Delta t = T/N, \\; \\Delta S = S_{max}/M$。\n",
    "1. 确定$T$时刻期权价格$f(N,j) = \\max{(0, K-j\\Delta S)}$。\n",
    "1. 往上一时刻递推。由$F_i = M^{-1}F_{i+1}$，先计算出$M$和$F_{i+1}$，再求出$M^{-1}$，即得到$F_i = (f(i,1),f(i,2),...,f(i,M-1))^T$，加上上下股价边界边界条件$f(i,0)=K,\\;f(i,M)=0$，就得出$i$时刻所有股价对应的$f(i,j)$。\n",
    "1. 考虑应不应该在$i$时刻的格点处执行美式看跌期权，即更新$f(i,j) = \\max{(f(i,j), K-\\Delta Sj)}$。\n",
    "1. 重复步骤3、4直到初始时刻，然后使用线性插值法得出$S=S_0$处的期权价格。\n",
    "\n",
    "## <a name=\"11_3\"><a/> 11.3 算法Python代码实现"
   ]
  },
  {
   "cell_type": "code",
   "execution_count": 3,
   "metadata": {},
   "outputs": [
    {
     "name": "stdout",
     "output_type": "stream",
     "text": [
      "American put price: 4.27847\n"
     ]
    }
   ],
   "source": [
    "import numpy as np\n",
    "\n",
    "def American_put_implicit(r, sigma, S_0, K, T, M, N):\n",
    "    dS = 3*S_0/M\n",
    "    dt = T/N\n",
    "\n",
    "    # 将 a_j, b_j, c_j 写为3个函数。\n",
    "    a = lambda j: 0.5*r*j*dt-0.5*sigma*sigma*j*j*dt\n",
    "    b = lambda j: 1+r*dt+sigma*sigma*j*j*dt\n",
    "    c = lambda j: -0.5*r*j*dt-0.5*sigma*sigma*j*j*dt\n",
    "\n",
    "    # f1 和 f2 为两列用来迭代计算的期权价格。\n",
    "    f1 = [max(K-i*dS, 0.0) for i in range(M+1)]\n",
    "    f2 = [None for i in range(M+1)]\n",
    "    # coeffs 为上文中的 M 系数矩阵。\n",
    "    coeffs = np.zeros((M-1, M-1))\n",
    "\n",
    "    for i in range(N-1, -1, -1):\n",
    "        f2 = list(f1)\n",
    "        coeffs[0][0] = b(1)\n",
    "        coeffs[0][1] = c(1)\n",
    "        coeffs[M-2][M-2] = b(M-1)\n",
    "        coeffs[M-2][M-3] = a(M-1) \n",
    "        for j in range(2, M-1, 1):\n",
    "            coeffs[j-1][j-2] = a(j)\n",
    "            coeffs[j-1][j-1] = b(j)\n",
    "            coeffs[j-1][j] = c(j)\n",
    "        # 参数矩阵求逆。\n",
    "        coeffs_inv = np.linalg.inv(coeffs)\n",
    "        F2 = f2[1:-1]\n",
    "        F2[0] -= a(1)*K\n",
    "        F1 = np.matmul(coeffs_inv, F2)\n",
    "        \n",
    "        f1[1:M] = F1\n",
    "        f1[0] = K\n",
    "        f1[M] = 0\n",
    "        \n",
    "        # 判断是否执行美式看跌期权。\n",
    "        f1 = np.maximum(f1, K-np.linspace(0, M, M+1)*dS)\n",
    "\n",
    "    pos = int(S_0/dS)\n",
    "    put_price = f1[pos] + (f1[pos+1]-f1[pos])/dS*(S_0-pos*dS)\n",
    "\n",
    "    return put_price\n",
    "\n",
    "# 计算例子。\n",
    "if __name__ == \"__main__\":\n",
    "    put_price = American_put_implicit(0.1, 0.4, 50, 50, 5/12.0, 300, 300)\n",
    "    print(\"American put price: {0:0.5f}\".format(put_price))"
   ]
  },
  {
   "cell_type": "markdown",
   "metadata": {},
   "source": [
    "##  <a name=\"11_4\"><a/> 11.4 参考资料\n",
    "1. 《期权、期货及其他衍生产品》，John C. Hull 著，王勇、索吾林译。"
   ]
  }
 ],
 "metadata": {
  "kernelspec": {
   "display_name": "Python 3",
   "language": "python",
   "name": "python3"
  },
  "language_info": {
   "codemirror_mode": {
    "name": "ipython",
    "version": 3
   },
   "file_extension": ".py",
   "mimetype": "text/x-python",
   "name": "python",
   "nbconvert_exporter": "python",
   "pygments_lexer": "ipython3",
   "version": "3.7.7"
  }
 },
 "nbformat": 4,
 "nbformat_minor": 4
}
